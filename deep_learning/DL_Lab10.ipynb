{
 "cells": [
  {
   "cell_type": "markdown",
   "metadata": {
    "id": "rEwpv0GZ_CrT"
   },
   "source": [
    "<a \n",
    "href=\"https://colab.research.google.com/github/wingated/cs474_labs_f2019/blob/master/DL_Lab10.ipynb\"\n",
    "  target=\"_parent\">\n",
    "  <img\n",
    "    src=\"https://colab.research.google.com/assets/colab-badge.svg\"\n",
    "    alt=\"Open In Colab\"/>\n",
    "</a>"
   ]
  },
  {
   "cell_type": "markdown",
   "metadata": {
    "id": "xnoEhAVvBcMj"
   },
   "source": [
    "# Lab 10: Transfer Learning/Fine-Tuning"
   ]
  },
  {
   "cell_type": "markdown",
   "metadata": {
    "id": "sBOvJdJfkXIL"
   },
   "source": [
    "## Description"
   ]
  },
  {
   "cell_type": "markdown",
   "metadata": {
    "id": "GiuvTUWOjtBC"
   },
   "source": [
    "### Objective\n",
    "\n",
    "- Gain experience fine-tuning pre-trained models to domain-specific applications.\n",
    "\n",
    "### Deliverable\n",
    "\n",
    "For this lab you will submit an IPython notebook via Learning Suite. The bulk of the work is in modifying fine-tuning a pre-trained ResNet. Fine-tuning the GPT-2 language model is pretty easy. The provided code works as is; you will just have to swap in your own text dataset.\n",
    "\n",
    "### Grading\n",
    "\n",
    "- 35% Create a dataset class for your own dataset\n",
    "- 35% Create a network class that wraps a pretrained ResNet\n",
    "- 20% Implement unfreezing in the network class\n",
    "- 10% Fine-tune GPT-2 on your own dataset\n",
    "\n",
    "### Tips\n",
    "- Your life will be better if you download a dataset that already has the data in the expected format for ImageFolder (make sure to read the documentation!). The datasets recommended below are in the correct format.\n",
    "- Get the CNN working on the provided dataset (bird species classification) before swapping in your own.\n",
    "- For reference on freezing/unfreezing network weights, see [this github gist](https://gist.github.com/jcjohnson/6e41e8512c17eae5da50aebef3378a4c)\n",
    "- Check PyTorch's documentation to learn the difference between `requires_grad=False` and `requires_grad_(False)`.\n",
    "- For training GPT-2, first try the medium-size (355M parameter) model. If your Colab instance doesn't have enough GPU space, you may need to switch to the small-size (124M parameter) model, but the results will be less impressive."
   ]
  },
  {
   "cell_type": "code",
   "execution_count": 9,
   "metadata": {
    "executionInfo": {
     "elapsed": 310,
     "status": "ok",
     "timestamp": 1636238554674,
     "user": {
      "displayName": "Landen Bailey",
      "photoUrl": "https://lh3.googleusercontent.com/a/default-user=s64",
      "userId": "03026746919900864404"
     },
     "user_tz": 360
    },
    "id": "dKzRORuLBNLR"
   },
   "outputs": [],
   "source": [
    "from torchvision.models import resnet152\n",
    "from torchvision import transforms, datasets\n",
    "from torch.utils.data import DataLoader, Dataset\n",
    "import torch\n",
    "from torch import optim, nn\n",
    "import zipfile\n",
    "from google.colab import files\n",
    "import os\n",
    "import sys\n",
    "from PIL import Image, ImageOps\n",
    "from tqdm import tqdm\n",
    "import numpy as np\n",
    "from matplotlib import pyplot as plt\n",
    "import unidecode\n",
    "import string"
   ]
  },
  {
   "cell_type": "markdown",
   "metadata": {
    "id": "S4R3D8Mr8b54"
   },
   "source": [
    "## 1 Fine-tune a ResNet for image classification"
   ]
  },
  {
   "cell_type": "markdown",
   "metadata": {
    "id": "kFoEeTYHDq2s"
   },
   "source": [
    "### 1.1 Find a dataset to fine-tune on, and make a Dataset class (1 hr.)"
   ]
  },
  {
   "cell_type": "markdown",
   "metadata": {
    "id": "7z6g7a_Y84n0"
   },
   "source": [
    "#### TODO:"
   ]
  },
  {
   "cell_type": "markdown",
   "metadata": {
    "id": "P8NtFZRd5hcm"
   },
   "source": [
    "- Inherit from torch.utils.data.Dataset\n",
    "- Use a [torchvision.datasets.ImageFolder](https://pytorch.org/docs/stable/torchvision/datasets.html#torchvision.datasets.ImageFolder)\n",
    "- Don't spend too long finding another dataset. Some suggestions that you are free to use:\n",
    " - https://www.kaggle.com/jessicali9530/stanford-dogs-dataset\n",
    " - https://www.kaggle.com/puneet6060/intel-image-classification\n"
   ]
  },
  {
   "cell_type": "markdown",
   "metadata": {
    "id": "TBigIUFTukeJ"
   },
   "source": [
    "#### Help for downloading kaggle datasets\n",
    "Downloading Kaggle datasets requires authentication, so you can't just download from a url. Here are some step-by-step instructions of how to get Kaggle datasets in Colab"
   ]
  },
  {
   "cell_type": "markdown",
   "metadata": {
    "id": "_X29UC6CvwfQ"
   },
   "source": [
    "1. Create an API key in Kaggle\n",
    "    - Click on profile photo\n",
    "    - Go to 'My Account'\n",
    "    - Scroll down to the API access section and click \"Create New API Token\"\n",
    "    - `kaggle.json` is now downloaded to your computer\n",
    "\n",
    "2. Upload the API key and install the Kaggle API client by running the next cell (run it again if it throws an error the first time). Also, `files.upload()` may not work in Firefox. One solution is to expand the Files banner (indicated by the '>' tab on the left side of the page) and use that to upload the key."
   ]
  },
  {
   "cell_type": "code",
   "execution_count": 2,
   "metadata": {
    "colab": {
     "base_uri": "https://localhost:8080/",
     "height": 86,
     "resources": {
      "http://localhost:8080/nbextensions/google.colab/files.js": {
       "data": "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",
       "headers": [
        [
         "content-type",
         "application/javascript"
        ]
       ],
       "ok": true,
       "status": 200,
       "status_text": ""
      }
     }
    },
    "executionInfo": {
     "elapsed": 13178,
     "status": "ok",
     "timestamp": 1636236619047,
     "user": {
      "displayName": "Landen Bailey",
      "photoUrl": "https://lh3.googleusercontent.com/a/default-user=s64",
      "userId": "03026746919900864404"
     },
     "user_tz": 360
    },
    "id": "Mhjc0pM7jOoZ",
    "outputId": "9182bd04-efa3-434d-d8d2-a9870f28ff12"
   },
   "outputs": [
    {
     "data": {
      "text/html": [
       "\n",
       "     <input type=\"file\" id=\"files-4169e24e-08c9-4d00-91b0-bd6accb2b239\" name=\"files[]\" multiple disabled\n",
       "        style=\"border:none\" />\n",
       "     <output id=\"result-4169e24e-08c9-4d00-91b0-bd6accb2b239\">\n",
       "      Upload widget is only available when the cell has been executed in the\n",
       "      current browser session. Please rerun this cell to enable.\n",
       "      </output>\n",
       "      <script src=\"/nbextensions/google.colab/files.js\"></script> "
      ],
      "text/plain": [
       "<IPython.core.display.HTML object>"
      ]
     },
     "metadata": {},
     "output_type": "display_data"
    },
    {
     "name": "stdout",
     "output_type": "stream",
     "text": [
      "Saving kaggle.json to kaggle.json\n",
      "-rw-r--r-- 1 root root 68 Nov  6 22:10 kaggle.json\n"
     ]
    }
   ],
   "source": [
    "# Run this cell and select the kaggle.json file downloaded\n",
    "# from the Kaggle account settings page.\n",
    "from google.colab import files\n",
    "files.upload()\n",
    "# Next, install the Kaggle API client.\n",
    "!pip install -q kaggle\n",
    "# Let's make sure the kaggle.json file is present.\n",
    "!ls -lha kaggle.json\n",
    "# The Kaggle API client expects this file to be in ~/.kaggle,\n",
    "# so move it there.\n",
    "!mkdir -p ~/.kaggle\n",
    "!mv kaggle.json ~/.kaggle/\n",
    "# This permissions change avoids a warning on Kaggle tool startup.\n",
    "!chmod 600 ~/.kaggle/kaggle.json"
   ]
  },
  {
   "cell_type": "markdown",
   "metadata": {
    "id": "AGlIa4SIwEXB"
   },
   "source": [
    "3. Copy the desired dataset locally"
   ]
  },
  {
   "cell_type": "code",
   "execution_count": 3,
   "metadata": {
    "colab": {
     "base_uri": "https://localhost:8080/"
    },
    "executionInfo": {
     "elapsed": 46742,
     "status": "ok",
     "timestamp": 1636236698326,
     "user": {
      "displayName": "Landen Bailey",
      "photoUrl": "https://lh3.googleusercontent.com/a/default-user=s64",
      "userId": "03026746919900864404"
     },
     "user_tz": 360
    },
    "id": "7HtB-XdIr1EE",
    "outputId": "ef5741ea-178c-46ee-c1bf-52da52fcadc8"
   },
   "outputs": [
    {
     "name": "stdout",
     "output_type": "stream",
     "text": [
      "Downloading bird-species-classification.zip to /content\n",
      " 99% 1.36G/1.37G [00:12<00:00, 153MB/s]\n",
      "100% 1.37G/1.37G [00:12<00:00, 117MB/s]\n",
      "Downloading stanford-dogs-dataset.zip to /content\n",
      " 98% 737M/750M [00:31<00:00, 19.0MB/s]\n",
      "100% 750M/750M [00:31<00:00, 25.0MB/s]\n"
     ]
    }
   ],
   "source": [
    "# Example download command for dataset found here: https://www.kaggle.com/akash2907/bird-species-classification\n",
    "# !kaggle datasets download -d akash2907/bird-species-classification\n",
    "!kaggle datasets download -d jessicali9530/stanford-dogs-dataset"
   ]
  },
  {
   "cell_type": "markdown",
   "metadata": {
    "id": "zcz0JGXjxFGe"
   },
   "source": [
    "#### Make the Dataset class\n",
    "See the implementation below for reference, and implement a dataset class for the dataset you choose."
   ]
  },
  {
   "cell_type": "code",
   "execution_count": 13,
   "metadata": {
    "executionInfo": {
     "elapsed": 158,
     "status": "ok",
     "timestamp": 1636236435082,
     "user": {
      "displayName": "Landen Bailey",
      "photoUrl": "https://lh3.googleusercontent.com/a/default-user=s64",
      "userId": "03026746919900864404"
     },
     "user_tz": 360
    },
    "id": "lthPlsGeK4CX"
   },
   "outputs": [],
   "source": [
    "class BirdDataset(Dataset):\n",
    "    def __init__(self, zip_file='bird-species-classification.zip', size=256, train=True, upload=False):\n",
    "        super(BirdDataset, self).__init__()\n",
    "        \n",
    "        self.train = train\n",
    "        extract_dir = os.path.splitext(zip_file)[0]\n",
    "        if not os.path.exists(extract_dir):\n",
    "            os.makedirs(extract_dir)\n",
    "            self.extract_zip(zip_file, extract_dir)\n",
    "            # Resize the images - originally they are high resolution. We could do this\n",
    "            # in the DataLoader, but it will read the full-resolution files from disk\n",
    "            # every time before resizing them, making training slow\n",
    "            self.resize(extract_dir, size=size)\n",
    "\n",
    "        postfix = 'train' if train else 'test'\n",
    "            \n",
    "        if train:\n",
    "            # The bird-species dataset mistakenly has a train_data folder inside of train_data\n",
    "            self.dataset_folder = datasets.ImageFolder(os.path.join(extract_dir, 'train_data', 'train_data'), transform=transforms.Compose([transforms.ToTensor()]))\n",
    "        else:\n",
    "            self.dataset_folder = datasets.ImageFolder(os.path.join(extract_dir, 'test_data', 'test_data'), transform=transforms.Compose([transforms.ToTensor()]))\n",
    "\n",
    "    def extract_zip(self, zip_file, extract_dir):\n",
    "        print(\"Extracting\", zip_file)\n",
    "        with zipfile.ZipFile(zip_file, 'r') as zip_ref:\n",
    "            zip_ref.extractall(extract_dir)\n",
    "\n",
    "    def resize(self, path, size=256):\n",
    "        \"\"\"Resizes all images in place\"\"\"\n",
    "        print(\"Resizing images\")\n",
    "        dirs = os.walk(path)\n",
    "        for root, dirs, files in os.walk(path):\n",
    "            for item in files:\n",
    "                name = os.path.join(root, item)\n",
    "                if os.path.isfile(name):\n",
    "                    im = Image.open(name)\n",
    "                    im = ImageOps.fit(im, (size, size))\n",
    "                    im.save(name[:-3] + 'bmp', 'BMP')\n",
    "                    os.remove(name)\n",
    "\n",
    "    def __getitem__(self, i):\n",
    "        return self.dataset_folder[i]\n",
    "\n",
    "    def __len__(self):\n",
    "        return len(self.dataset_folder)\n",
    "\n",
    "bird_data = BirdDataset()"
   ]
  },
  {
   "cell_type": "code",
   "execution_count": 12,
   "metadata": {
    "executionInfo": {
     "elapsed": 12,
     "status": "ok",
     "timestamp": 1636239434102,
     "user": {
      "displayName": "Landen Bailey",
      "photoUrl": "https://lh3.googleusercontent.com/a/default-user=s64",
      "userId": "03026746919900864404"
     },
     "user_tz": 360
    },
    "id": "5jHFdToeDtIF"
   },
   "outputs": [],
   "source": [
    "class DogDataset(Dataset):\n",
    "    def __init__(self, zip_file='stanford-dogs-dataset.zip', size=128, train=True, upload=False):\n",
    "        super(DogDataset, self).__init__()\n",
    "        \n",
    "        self.train = train\n",
    "        extract_dir = os.path.splitext(zip_file)[0]\n",
    "        if not os.path.exists(extract_dir):\n",
    "            os.makedirs(extract_dir)\n",
    "            self.extract_zip(zip_file, extract_dir)\n",
    "            self.resize(extract_dir + '/images', size=size)\n",
    "\n",
    "        postfix = 'train' if train else 'test'\n",
    "            \n",
    "        if train:\n",
    "            # The bird-species dataset mistakenly has a train_data folder inside of train_data\n",
    "            self.dataset_folder = datasets.ImageFolder(os.path.join(extract_dir, 'images', 'images'), transform=transforms.Compose([transforms.ToTensor()]))\n",
    "            print(self.dataset_folder)\n",
    "        else:\n",
    "            self.dataset_folder = datasets.ImageFolder(os.path.join(extract_dir, 'images', 'images'), transform=transforms.Compose([transforms.ToTensor()]))\n",
    "            print(self.dataset_folder)\n",
    "\n",
    "    def extract_zip(self, zip_file, extract_dir):\n",
    "        print(\"Extracting\", zip_file)\n",
    "        with zipfile.ZipFile(zip_file, 'r') as zip_ref:\n",
    "            zip_ref.extractall(extract_dir)\n",
    "\n",
    "    def resize(self, path, size=256):\n",
    "        \"\"\"Resizes all images in place\"\"\"\n",
    "        print(\"Resizing images\")\n",
    "        dirs = os.walk(path)\n",
    "        for root, dirs, files in os.walk(path):\n",
    "            for item in files:\n",
    "                name = os.path.join(root, item)\n",
    "                if os.path.isfile(name):\n",
    "                    im = Image.open(name)\n",
    "                    im = ImageOps.fit(im, (size, size))\n",
    "                    im.save(name[:-3] + 'bmp', 'BMP')\n",
    "                    os.remove(name)\n",
    "\n",
    "    def __getitem__(self, i):\n",
    "        return self.dataset_folder[i]\n",
    "\n",
    "    def __len__(self):\n",
    "        return len(self.dataset_folder)\n"
   ]
  },
  {
   "cell_type": "markdown",
   "metadata": {
    "id": "2vJVbYcAJAf2"
   },
   "source": [
    "### 1.2 Wrap a pretrained ResNet in an `nn.Module` (30 min)"
   ]
  },
  {
   "cell_type": "markdown",
   "metadata": {
    "id": "gMOzGDND9FD1"
   },
   "source": [
    "#### TODO:"
   ]
  },
  {
   "cell_type": "markdown",
   "metadata": {
    "id": "jLvmDHbl9IyG"
   },
   "source": [
    "- Make a model class that inherits from `nn.Module`\n",
    "- Wrap a pretrained ResNet and swap out the last layer of that network with a layer that maps to the number of classes in your new dataset"
   ]
  },
  {
   "cell_type": "markdown",
   "metadata": {
    "id": "eOtl8z8G9wbr"
   },
   "source": [
    "#### Make your model class"
   ]
  },
  {
   "cell_type": "code",
   "execution_count": 6,
   "metadata": {
    "executionInfo": {
     "elapsed": 3,
     "status": "ok",
     "timestamp": 1636234702814,
     "user": {
      "displayName": "Landen Bailey",
      "photoUrl": "https://lh3.googleusercontent.com/a/default-user=s64",
      "userId": "03026746919900864404"
     },
     "user_tz": 360
    },
    "id": "AY-XU4Mwas0j"
   },
   "outputs": [],
   "source": [
    "class CustomResNet(nn.Module):\n",
    "    def __init__(self, num_classes, start_frozen=False):\n",
    "        super(CustomResNet, self).__init__()\n",
    "\n",
    "        self.resNet = resnet152(pretrained=True)\n",
    "        self.resNet.fc = nn.Linear(self.resNet.fc.in_features, num_classes)\n",
    "        \n",
    "        # print(list(self.resNet.parameters()))\n",
    "\n",
    "        if start_frozen:\n",
    "            for param in self.resNet.parameters():\n",
    "                param.requires_grad = False\n",
    "            for param in self.resNet.fc.parameters():\n",
    "                param.requires_grad = True\n",
    "\n",
    "        self.layers = []\n",
    "        for child in list(self.resNet.named_modules()):\n",
    "          if len(list(child[1].parameters())) < 3 and len(list(child[1].parameters())) > 0:\n",
    "              self.layers.append(child[0])\n",
    "                \n",
    "    def unfreeze(self, n_layers):\n",
    "        for i in range(len(self.layers) - 1, len(self.layers) - (n_layers + 2), -1):\n",
    "            self.resNet.get_submodule(self.layers[i]).requires_grad_()\n",
    "            \n",
    "\n",
    "    def forward(self, x):\n",
    "        return self.resNet(x)"
   ]
  },
  {
   "cell_type": "markdown",
   "metadata": {
    "id": "2Krh0eYy18R9"
   },
   "source": [
    "### 1.3 Read through and run this training loop"
   ]
  },
  {
   "cell_type": "code",
   "execution_count": 7,
   "metadata": {
    "executionInfo": {
     "elapsed": 156,
     "status": "ok",
     "timestamp": 1636234715706,
     "user": {
      "displayName": "Landen Bailey",
      "photoUrl": "https://lh3.googleusercontent.com/a/default-user=s64",
      "userId": "03026746919900864404"
     },
     "user_tz": 360
    },
    "id": "yOGrrw2gbIPf"
   },
   "outputs": [],
   "source": [
    "def accuracy(y_hat, y_truth):\n",
    "    \"\"\"Gets average accuracy of a vector of predictions\"\"\"\n",
    "    \n",
    "    preds = torch.argmax(y_hat, dim=1)\n",
    "    acc = torch.mean((preds == y_truth).float())\n",
    "    return acc\n",
    "\n",
    "def evaluate(model, objective, val_loader, device):\n",
    "    \"\"\"Gets average accuracy and loss for the validation set\"\"\"\n",
    "\n",
    "    val_losses = 0\n",
    "    val_accs = 0\n",
    "    batches = 0\n",
    "    # model.eval() so that batchnorm and dropout work in eval mode\n",
    "    model.eval()\n",
    "    # torch.no_grad() to turn off computation graph creation. This allows for temporal\n",
    "    # and spatial complexity improvements, which allows for larger validation batch \n",
    "    # sizes so it’s recommended\n",
    "    with torch.no_grad():\n",
    "        for x, y_truth in val_loader:\n",
    "            \n",
    "            batches += 1\n",
    "\n",
    "            x, y_truth = x.to(device), y_truth.to(device)\n",
    "            y_hat = model(x)\n",
    "            val_loss = objective(y_hat, y_truth)\n",
    "            val_acc = accuracy(y_hat, y_truth)\n",
    "\n",
    "            val_losses += val_loss.item()\n",
    "            val_accs += val_acc\n",
    "\n",
    "    model.train()\n",
    "\n",
    "    return val_losses/batches, val_accs/batches"
   ]
  },
  {
   "cell_type": "code",
   "execution_count": 8,
   "metadata": {
    "executionInfo": {
     "elapsed": 157,
     "status": "ok",
     "timestamp": 1636234721445,
     "user": {
      "displayName": "Landen Bailey",
      "photoUrl": "https://lh3.googleusercontent.com/a/default-user=s64",
      "userId": "03026746919900864404"
     },
     "user_tz": 360
    },
    "id": "VKESMcKi2E_f"
   },
   "outputs": [],
   "source": [
    "def train(start_frozen=False, model_unfreeze=0):\n",
    "    \"\"\"Fine-tunes a CNN\n",
    "    Args:\n",
    "        start_frozen (bool): whether to start with the network weights frozen.\n",
    "        model_unfreeze (int): the maximum number of network layers to unfreeze\n",
    "    \"\"\"\n",
    "    epochs = 20\n",
    "    # Start with a very low learning rate\n",
    "    lr = .00005\n",
    "    val_every = 3\n",
    "    num_classes = 16\n",
    "    batch_size = 32\n",
    "    device = torch.device('cuda:0')\n",
    "\n",
    "    # Data\n",
    "    # TODO: Use your own dataset\n",
    "    train_dataset = BirdDataset(upload=True, train=True)\n",
    "    val_dataset = BirdDataset(upload=True, train=False)\n",
    "    train_loader = DataLoader(train_dataset,\n",
    "                              shuffle=True,\n",
    "                              num_workers=8,\n",
    "                              batch_size=batch_size)\n",
    "    val_loader = DataLoader(val_dataset,\n",
    "                              shuffle=True,\n",
    "                              num_workers=8,\n",
    "                              batch_size=batch_size)\n",
    "    \n",
    "    # Model\n",
    "    model = CustomResNet(num_classes, start_frozen=start_frozen).to(device)\n",
    "    \n",
    "    # Objective\n",
    "    objective = nn.CrossEntropyLoss()\n",
    "    # Optimizer\n",
    "    optimizer = optim.Adam(model.parameters(), lr=lr, weight_decay=1e-1)\n",
    "\n",
    "    # Progress bar\n",
    "    pbar = tqdm(total=len(train_loader) * epochs)\n",
    "\n",
    "    train_losses = []\n",
    "    train_accs = []\n",
    "    val_losses = []\n",
    "    val_accs = []\n",
    "    \n",
    "    cnt = 0\n",
    "    for epoch in range(epochs):\n",
    "\n",
    "        # Implement model unfreezing\n",
    "        if epoch < model_unfreeze:\n",
    "            model.unfreeze(epoch)\n",
    "        \n",
    "        for x, y_truth in train_loader:\n",
    "        \n",
    "            x, y_truth = x.to(device), y_truth.to(device)\n",
    "\n",
    "            optimizer.zero_grad()\n",
    "\n",
    "            y_hat = model(x)\n",
    "            train_loss = objective(y_hat, y_truth)\n",
    "            train_acc = accuracy(y_hat, y_truth)\n",
    "\n",
    "            train_loss.backward()\n",
    "            optimizer.step()\n",
    "\n",
    "            train_accs.append(train_acc)\n",
    "            train_losses.append(train_loss.item())\n",
    "\n",
    "            if cnt % val_every == 0:\n",
    "                val_loss, val_acc = evaluate(model, objective, val_loader, device)\n",
    "                val_losses.append(val_loss)\n",
    "                val_accs.append(val_acc)\n",
    "\n",
    "            pbar.set_description('train loss:{:.4f}, train accuracy:{:.4f}.'.format(train_loss.item(), train_acc))\n",
    "            pbar.update(1)\n",
    "            cnt += 1\n",
    "\n",
    "    pbar.close()\n",
    "    plt.subplot(121)\n",
    "    plt.plot(np.arange(len(train_accs)), train_accs, label='Train Accuracy')\n",
    "    plt.plot(np.arange(len(train_accs), step=val_every), val_accs, label='Val Accuracy')\n",
    "    plt.legend()\n",
    "    plt.subplot(122)\n",
    "    plt.plot(np.arange(len(train_losses)), train_losses, label='Train Loss')\n",
    "    plt.plot(np.arange(len(train_losses), step=val_every), val_losses, label='Val Loss')\n",
    "    plt.legend()\n",
    "    plt.show()  "
   ]
  },
  {
   "cell_type": "code",
   "execution_count": 9,
   "metadata": {
    "colab": {
     "base_uri": "https://localhost:8080/",
     "height": 366
    },
    "executionInfo": {
     "elapsed": 353369,
     "status": "ok",
     "timestamp": 1636235094027,
     "user": {
      "displayName": "Landen Bailey",
      "photoUrl": "https://lh3.googleusercontent.com/a/default-user=s64",
      "userId": "03026746919900864404"
     },
     "user_tz": 360
    },
    "id": "fvnxeLotchiH",
    "outputId": "20b58693-ed9d-4567-8d7b-a5934778ebe6"
   },
   "outputs": [
    {
     "name": "stderr",
     "output_type": "stream",
     "text": [
      "/usr/local/lib/python3.7/dist-packages/torch/utils/data/dataloader.py:481: UserWarning: This DataLoader will create 8 worker processes in total. Our suggested max number of worker in current system is 2, which is smaller than what this DataLoader is going to create. Please be aware that excessive worker creation might get DataLoader running slow or even freeze, lower the worker number to avoid potential slowness/freeze if necessary.\n",
      "  cpuset_checked))\n",
      "  0%|          | 0/100 [00:00<?, ?it/s]/usr/local/lib/python3.7/dist-packages/torch/nn/functional.py:718: UserWarning: Named tensors and all their associated APIs are an experimental feature and subject to change. Please do not use them for anything important until they are released as stable. (Triggered internally at  /pytorch/c10/core/TensorImpl.h:1156.)\n",
      "  return torch.max_pool2d(input, kernel_size, stride, padding, dilation, ceil_mode)\n",
      "train loss:0.1606, train accuracy:1.0000.: 100%|██████████| 100/100 [05:48<00:00,  3.49s/it]\n"
     ]
    },
    {
     "data": {
      "image/png": "[encoded data removed]",
      "text/plain": [
       "<Figure size 432x288 with 2 Axes>"
      ]
     },
     "metadata": {
      "needs_background": "light"
     },
     "output_type": "display_data"
    }
   ],
   "source": [
    "train(start_frozen=False, model_unfreeze=0)"
   ]
  },
  {
   "cell_type": "markdown",
   "metadata": {
    "id": "aEDv_-H7BvM0"
   },
   "source": [
    "### 1.4 Implement Unfreezing (1 hr)"
   ]
  },
  {
   "cell_type": "markdown",
   "metadata": {
    "id": "YH5mQBaa-_0b"
   },
   "source": [
    "#### Description"
   ]
  },
  {
   "cell_type": "markdown",
   "metadata": {
    "id": "u_YmE1pe-6LF"
   },
   "source": [
    "Unfreezing is a technique that can be helpful when fine tuning a CNN for a more difficult task with a large amount of data.\n",
    "\n",
    "The idea is that if we allow the network to tweak the earliest layers immediately, before the last FCL has been trained at all, the earliest layers will forget all of the useful features that they learned in order  to provide features that are helpful for the (untrained) FCL.\n",
    "\n",
    "So, rather than training all of the model weights at once, we learn the last fully connected layer, then train that layer together with the second-to-last layer, gradually adding layers until we reach the first layer."
   ]
  },
  {
   "cell_type": "markdown",
   "metadata": {
    "id": "XMKRI77_-8nc"
   },
   "source": [
    "#### TODO:"
   ]
  },
  {
   "cell_type": "markdown",
   "metadata": {
    "id": "KaUc8BTYC1bz"
   },
   "source": [
    "- Modify your model's parameters by setting the `requires_grad` attributes to `False`. (but keep `requires_grad = True` for the last layer).\n",
    "- Add a member function to you model class that allows the user to unfreeze weights in the training loop. See [this github gist](https://gist.github.com/jcjohnson/6e41e8512c17eae5da50aebef3378a4c) for reference.\n",
    "- Modify your training loop to add logic that calls the `unfreeze` function of the model class: unfreeze one layer (a convolutional layer or linear layer, not the sequential or bottleneck layers) every epoch.\n",
    "- Call your train function to fine-tune the ResNet on your dataset."
   ]
  },
  {
   "cell_type": "markdown",
   "metadata": {
    "id": "qBT5jgifC7Im"
   },
   "source": [
    "#### Call your train function"
   ]
  },
  {
   "cell_type": "code",
   "execution_count": 10,
   "metadata": {
    "colab": {
     "base_uri": "https://localhost:8080/",
     "height": 335
    },
    "executionInfo": {
     "elapsed": 222550,
     "status": "ok",
     "timestamp": 1636235460744,
     "user": {
      "displayName": "Landen Bailey",
      "photoUrl": "https://lh3.googleusercontent.com/a/default-user=s64",
      "userId": "03026746919900864404"
     },
     "user_tz": 360
    },
    "id": "Mg9ySEO_BNDx",
    "outputId": "c82407d4-ee52-4afc-91c9-5d5dcb6af037"
   },
   "outputs": [
    {
     "name": "stderr",
     "output_type": "stream",
     "text": [
      "/usr/local/lib/python3.7/dist-packages/torch/utils/data/dataloader.py:481: UserWarning: This DataLoader will create 8 worker processes in total. Our suggested max number of worker in current system is 2, which is smaller than what this DataLoader is going to create. Please be aware that excessive worker creation might get DataLoader running slow or even freeze, lower the worker number to avoid potential slowness/freeze if necessary.\n",
      "  cpuset_checked))\n",
      "train loss:0.4455, train accuracy:1.0000.: 100%|██████████| 100/100 [03:40<00:00,  2.20s/it]\n"
     ]
    },
    {
     "data": {
      "image/png": "[encoded data removed]",
      "text/plain": [
       "<Figure size 432x288 with 2 Axes>"
      ]
     },
     "metadata": {
      "needs_background": "light"
     },
     "output_type": "display_data"
    }
   ],
   "source": [
    "############################\n",
    "# train with unfreezing here (should be a single call to your train function)\n",
    "train(start_frozen=True, model_unfreeze=20)\n",
    "############################"
   ]
  },
  {
   "cell_type": "markdown",
   "metadata": {
    "id": "ZItH2lX7k4Yt"
   },
   "source": [
    "You may not see any improvement for your classification task, but unfreezing can help convergence for more difficult image classification tasks."
   ]
  },
  {
   "cell_type": "markdown",
   "metadata": {
    "id": "XAXHAUf3EEiE"
   },
   "source": [
    "## 2 Fine-tune a language model - (15 min)"
   ]
  },
  {
   "cell_type": "markdown",
   "metadata": {
    "id": "yu9usOxtjFHL"
   },
   "source": [
    "In this section you will use the gpt-2-simple package [here](https://github.com/minimaxir/gpt-2-simple) to fine-tune the GPT-2 language model on a domain of your choice."
   ]
  },
  {
   "cell_type": "markdown",
   "metadata": {
    "id": "_K7F19SPQo6U"
   },
   "source": [
    "### 2.1 Generate text from an the pretrained GPT-2 model"
   ]
  },
  {
   "cell_type": "markdown",
   "metadata": {
    "id": "9YLXvK51RnuL"
   },
   "source": [
    "#### Run this code to generate text from a pretrained model"
   ]
  },
  {
   "cell_type": "code",
   "execution_count": null,
   "metadata": {
    "id": "WDNOb_H5IRvH"
   },
   "outputs": [],
   "source": [
    "!pip install gpt-2-simple\n",
    "\n",
    "# the transformers package is built on top of Tensorflow, and the default TF version \n",
    "# for Colab will soon switch to 2.x. We remedy this with the following magic method\n",
    "%tensorflow_version 1.x \n",
    "\n",
    "import gpt_2_simple as gpt2\n",
    "import os\n",
    "import tensorflow as tf"
   ]
  },
  {
   "cell_type": "code",
   "execution_count": 7,
   "metadata": {
    "colab": {
     "base_uri": "https://localhost:8080/"
    },
    "executionInfo": {
     "elapsed": 115170,
     "status": "ok",
     "timestamp": 1636238179155,
     "user": {
      "displayName": "Landen Bailey",
      "photoUrl": "https://lh3.googleusercontent.com/a/default-user=s64",
      "userId": "03026746919900864404"
     },
     "user_tz": 360
    },
    "id": "6aRJ-c9uRMOa",
    "outputId": "7983800a-7b2b-4b96-b40f-3fbb9b43ef3a"
   },
   "outputs": [
    {
     "name": "stdout",
     "output_type": "stream",
     "text": [
      "Downloading 124M model...\n"
     ]
    },
    {
     "name": "stderr",
     "output_type": "stream",
     "text": [
      "Fetching checkpoint: 1.05Mit [00:00, 172Mit/s]                                                      \n",
      "Fetching encoder.json: 1.05Mit [00:01, 982kit/s]\n",
      "Fetching hparams.json: 1.05Mit [00:00, 677Mit/s]                                                    \n",
      "Fetching model.ckpt.data-00000-of-00001: 498Mit [01:14, 6.66Mit/s]\n",
      "Fetching model.ckpt.index: 1.05Mit [00:00, 608Mit/s]                                                \n",
      "Fetching model.ckpt.meta: 1.05Mit [00:00, 1.16Mit/s]\n",
      "Fetching vocab.bpe: 1.05Mit [00:00, 1.18Mit/s]\n"
     ]
    },
    {
     "name": "stdout",
     "output_type": "stream",
     "text": [
      "Loading pretrained model models/124M/model.ckpt\n",
      "INFO:tensorflow:Restoring parameters from models/124M/model.ckpt\n",
      "(CNN) — In the days after the Orlando shooting, the Orlando Sentinel reported that at least 12 people were killed and at least seven were wounded.\n",
      "\n",
      "Even as the tragedy unfolded, the same people who had killed a few people around the country were saying \"Look at that.\" And they weren't talking about the attacks on the Pulse gay nightclub.\n",
      "\n",
      "And that's because they were talking about Orlando.\n",
      "\n",
      "This is not a national story. Orlando is a national story.\n",
      "\n",
      "It's not a story of a lone gunman, a lone gunman. This is not a national story.\n",
      "\n",
      "It's not a national story.\n",
      "\n",
      "Orlando, the place where the country celebrates and celebrates God.\n",
      "\n",
      "The place where people are starting to realize they can be true friends, make love, fight for themselves and even get together in a rainbow flag.\n",
      "\n",
      "Orlando, where people are starting to realize they can be true friends, make love, fight for themselves and even get together in a rainbow flag.\n",
      "\n",
      "Orlando, the place where people are beginning to realize they can be true friends, make love, fight for themselves and even get together in a rainbow flag.\n",
      "\n",
      "It's Orlando, the place where people are starting to realize they can be true friends, make love, fight for themselves and even get together in a rainbow flag.\n",
      "\n",
      "It's Orlando, the place where people are starting to realize they can be true friends, make love, fight for themselves and even get together in a rainbow flag.\n",
      "\n",
      "Orlando, the places where people are starting to realize they can be true friends, make love, fight for themselves and even get together in a rainbow flag.\n",
      "\n",
      "It's Orlando, the places where people are starting to realize they can be true friends, make love, fight for themselves and even get together in a rainbow flag.\n",
      "\n",
      "This is the place where we can be true friends.\n",
      "\n",
      "This is the place where you can be true friends.\n",
      "\n",
      "This is the place where we can be true friends.\n",
      "\n",
      "Orlando, the place where people are starting to realize they can be true friends, make love, fight for themselves and even get together in a rainbow flag.\n",
      "\n",
      "It's Orlando, the place where people are starting to realize they can be true friends, make love, fight for themselves and even get together in a rainbow flag.\n",
      "\n",
      "This is the place where we can be true friends.\n",
      "\n",
      "This is the place where we can be true friends.\n",
      "\n",
      "It's Orlando, the place where people are starting to realize they can be true friends, make love, fight for themselves and even get together in a rainbow flag.\n",
      "\n",
      "It's Orlando, the place where people are starting to realize they can be true friends, make love, fight for themselves and even get together in a rainbow flag.\n",
      "\n",
      "This is the place where we can be true friends.\n",
      "\n",
      "This is the place where we can be true friends.\n",
      "\n",
      "This is the place where we can be true friends.\n",
      "\n",
      "Orlando, the place where people are starting to realize they can be true friends, make love, fight for themselves and even get together in a rainbow flag.\n",
      "\n",
      "It's Orlando, the place where people are starting to realize they can be true friends, make love, fight for themselves and even get together in a rainbow flag.\n",
      "\n",
      "It's Orlando, the place where people are starting to realize they can be true friends, make love, fight for themselves and even get together in a rainbow flag.\n",
      "\n",
      "It's Orlando, the place where people are starting to realize they can be true friends, make love, fight for themselves and even get together in a rainbow flag.\n",
      "\n",
      "This is the place where we can be true friends.\n",
      "\n",
      "This is the place where we can be true friends.\n",
      "\n",
      "This is the place where we can be true friends.\n",
      "\n",
      "This is the place where we can be true friends.\n",
      "\n",
      "This is the place where we can be true friends.\n",
      "\n",
      "This is the place where we can be true friends.\n",
      "\n",
      "This is the place where we can be true friends.\n",
      "\n",
      "This is the place where we can be true friends.\n",
      "\n",
      "This is the place where we can be true friends.\n",
      "\n",
      "This is the place where we can be true friends.\n",
      "\n",
      "This is the place where we can be true friends.\n",
      "\n",
      "This is the place where we can be true friends.\n",
      "\n",
      "This is the place where we can be true friends.\n",
      "\n",
      "This is the place where we can be true friends.\n",
      "\n",
      "This is the place where we can be true friends.\n",
      "\n",
      "This is the place where we can be true friends.\n",
      "\n",
      "This is the place where we can be true friends.\n",
      "\n",
      "This is the place where we can be true friends.\n",
      "\n",
      "This is the place where we can be true friends.\n",
      "\n",
      "This is the place where we can be true friends.\n"
     ]
    }
   ],
   "source": [
    "# This line is necessary to be able to run a new tf session\n",
    "tf.reset_default_graph()\n",
    "# The medium-sized model. IF you run out of memory, try \"124M\" instead\n",
    "model_name = \"124M\"\n",
    "if not os.path.isdir(os.path.join(\"models\", model_name)):\n",
    "\tprint(f\"Downloading {model_name} model...\")\n",
    "\tgpt2.download_gpt2(model_name=model_name)   # model is saved into current directory under /models/124M/\n",
    "\n",
    "sess = gpt2.start_tf_sess()\n",
    "gpt2.load_gpt2(sess, model_name=model_name)\n",
    "gpt2.generate(sess, model_name=model_name)"
   ]
  },
  {
   "cell_type": "markdown",
   "metadata": {
    "id": "AHmjSVf_FNHv"
   },
   "source": [
    "### 2.2 Download a text dataset"
   ]
  },
  {
   "cell_type": "markdown",
   "metadata": {
    "id": "gPXJkNubFyY6"
   },
   "source": [
    "#### TODO:"
   ]
  },
  {
   "cell_type": "markdown",
   "metadata": {
    "id": "KWkuRjbcFzwb"
   },
   "source": [
    "- Use the provided functions to download your own text dataset\n",
    "- [Project Gutenberg](https://www.gutenberg.org/) is a nice starting point for raw text corpora"
   ]
  },
  {
   "cell_type": "markdown",
   "metadata": {
    "id": "iD45m3IwF9hh"
   },
   "source": [
    "#### Download Dataset"
   ]
  },
  {
   "cell_type": "code",
   "execution_count": null,
   "metadata": {
    "id": "ESltl2QM5nxw"
   },
   "outputs": [],
   "source": [
    "import zipfile\n",
    "import os\n",
    "from torchvision import datasets\n",
    "\n",
    "def extract_zip(zip_path, remove_finished=True):\n",
    "    print('Extracting {}'.format(zip_path))\n",
    "    with zipfile.ZipFile(zip_path, 'r') as zip_ref:\n",
    "        zip_ref.extractall(zip_path.replace('.zip', ''))\n",
    "    if remove_finished:\n",
    "        os.remove(zip_path)\n",
    "\n",
    "def download_dataset(url, root='../data'):\n",
    "    if not os.path.exists(os.path.join(root, 'text')):\n",
    "        os.makedirs(os.path.join(root))\n",
    "        datasets.utils.download_url(url, root, 'text.zip', None)\n",
    "        extract_zip(os.path.join(root, 'text.zip'))\n",
    "    return os.path.join(root, 'text')\n",
    "\n",
    "##########################################\n",
    "# Set the url for your dataset here,\n",
    "# move the dataset to the desired location\n",
    "##########################################\n",
    "! wget -O ./text_files.tar.gz 'https://piazza.com/redirect/s3?bucket=uploads&prefix=attach%2Fjlifkda6h0x5bk%2Fhzosotq4zil49m%2Fjn13x09arfeb%2Ftext_files.tar.gz' \n",
    "! tar -xzf text_files.tar.gz\n",
    "! pip install unidecode\n",
    "! pip install torch\n",
    "all_characters = string.printable\n",
    "n_characters = len(all_characters)\n",
    "file = unidecode.unidecode(open('./text_files/lotr.txt').read())\n",
    "print('file_len =', len(file))\n",
    "\n",
    "url = 'https://www.gutenberg.org/files/30/30.zip'\n",
    "download_dataset(url)\n",
    "!mv /data/text/30.txt /data/text/bible.txt\n",
    "!ls ../data/text"
   ]
  },
  {
   "cell_type": "markdown",
   "metadata": {
    "id": "usQE-rSPZq_X"
   },
   "source": [
    "### 2.3 Fine-tune GPT-2 on your own dataset"
   ]
  },
  {
   "cell_type": "markdown",
   "metadata": {
    "id": "IoA0tZZCa_1k"
   },
   "source": [
    "#### TODO:"
   ]
  },
  {
   "cell_type": "markdown",
   "metadata": {
    "id": "OoU6ML1mbgjP"
   },
   "source": [
    "- Swap out the dataset parameter with the path to your dataset"
   ]
  },
  {
   "cell_type": "markdown",
   "metadata": {
    "id": "8pa5vFJ5EUjv"
   },
   "source": [
    "#### Train on your dataset"
   ]
  },
  {
   "cell_type": "code",
   "execution_count": 11,
   "metadata": {
    "colab": {
     "base_uri": "https://localhost:8080/"
    },
    "executionInfo": {
     "elapsed": 784755,
     "status": "ok",
     "timestamp": 1636239434101,
     "user": {
      "displayName": "Landen Bailey",
      "photoUrl": "https://lh3.googleusercontent.com/a/default-user=s64",
      "userId": "03026746919900864404"
     },
     "user_tz": 360
    },
    "id": "WuQ5snl4LuS0",
    "outputId": "f930ae57-73e8-4718-fecf-a15f55525fdd"
   },
   "outputs": [
    {
     "name": "stdout",
     "output_type": "stream",
     "text": [
      "WARNING:tensorflow:From /usr/local/lib/python3.7/dist-packages/gpt_2_simple/src/sample.py:17: where (from tensorflow.python.ops.array_ops) is deprecated and will be removed in a future version.\n",
      "Instructions for updating:\n",
      "Use tf.where in 2.0, which has the same broadcast rule as np.where\n",
      "Loading checkpoint models/124M/model.ckpt\n",
      "INFO:tensorflow:Restoring parameters from models/124M/model.ckpt\n",
      "Loading dataset...\n"
     ]
    },
    {
     "name": "stderr",
     "output_type": "stream",
     "text": [
      "100%|██████████| 1/1 [00:04<00:00,  4.00s/it]\n"
     ]
    },
    {
     "name": "stdout",
     "output_type": "stream",
     "text": [
      "dataset has 719670 tokens\n",
      "Training...\n",
      "[1 | 10.56] loss=3.72 avg=3.72\n",
      "[2 | 14.96] loss=3.81 avg=3.77\n",
      "[3 | 19.28] loss=3.54 avg=3.69\n",
      "[4 | 23.60] loss=3.38 avg=3.61\n",
      "[5 | 27.93] loss=3.39 avg=3.57\n",
      "[6 | 32.27] loss=3.39 avg=3.54\n",
      "[7 | 36.60] loss=3.44 avg=3.52\n",
      "[8 | 40.94] loss=3.40 avg=3.51\n",
      "[9 | 45.25] loss=3.39 avg=3.49\n",
      "[10 | 49.61] loss=3.38 avg=3.48\n",
      "[11 | 53.95] loss=3.36 avg=3.47\n",
      "[12 | 58.28] loss=3.41 avg=3.46\n",
      "[13 | 62.63] loss=3.28 avg=3.45\n",
      "[15 | 71.27] loss=3.23 avg=3.42\n",
      "[16 | 75.60] loss=3.30 avg=3.42\n",
      "[17 | 79.95] loss=3.23 avg=3.40\n",
      "[18 | 84.29] loss=3.18 avg=3.39\n",
      "[19 | 88.64] loss=3.18 avg=3.38\n",
      "[20 | 93.01] loss=3.15 avg=3.37\n",
      "[21 | 97.38] loss=3.23 avg=3.36\n",
      "[22 | 101.76] loss=3.14 avg=3.35\n",
      "[23 | 106.16] loss=3.26 avg=3.34\n",
      "[24 | 110.55] loss=3.25 avg=3.34\n",
      "[25 | 114.96] loss=3.13 avg=3.33\n",
      "[26 | 119.38] loss=3.06 avg=3.32\n",
      "[27 | 123.79] loss=3.08 avg=3.31\n",
      "[28 | 128.20] loss=3.03 avg=3.30\n",
      "[29 | 132.62] loss=3.07 avg=3.29\n",
      "[30 | 137.03] loss=3.24 avg=3.29\n",
      "[31 | 141.45] loss=3.15 avg=3.28\n",
      "[32 | 145.85] loss=3.05 avg=3.27\n",
      "[33 | 150.26] loss=3.14 avg=3.27\n",
      "[34 | 154.67] loss=3.09 avg=3.26\n",
      "[35 | 159.06] loss=3.10 avg=3.26\n",
      "[36 | 163.47] loss=3.10 avg=3.25\n",
      "[37 | 167.88] loss=3.27 avg=3.25\n",
      "[38 | 172.28] loss=3.09 avg=3.25\n",
      "[39 | 176.68] loss=3.16 avg=3.24\n",
      "[40 | 181.08] loss=3.05 avg=3.24\n",
      "[42 | 189.88] loss=3.09 avg=3.23\n",
      "[43 | 194.27] loss=3.05 avg=3.23\n",
      "[44 | 198.68] loss=2.92 avg=3.22\n",
      "[45 | 203.07] loss=2.96 avg=3.21\n",
      "[46 | 207.46] loss=2.92 avg=3.20\n",
      "[47 | 211.84] loss=3.11 avg=3.20\n",
      "[48 | 216.22] loss=2.93 avg=3.19\n",
      "[49 | 220.64] loss=2.95 avg=3.19\n",
      "[50 | 225.04] loss=3.17 avg=3.19\n",
      "[51 | 229.43] loss=3.11 avg=3.18\n",
      "[52 | 233.83] loss=2.86 avg=3.18\n",
      "[53 | 238.25] loss=3.04 avg=3.17\n",
      "[54 | 242.65] loss=3.15 avg=3.17\n",
      "[55 | 247.04] loss=3.01 avg=3.17\n",
      "[56 | 251.44] loss=3.26 avg=3.17\n",
      "[57 | 255.86] loss=2.97 avg=3.17\n",
      "[58 | 260.26] loss=2.97 avg=3.16\n",
      "[59 | 264.66] loss=2.96 avg=3.16\n",
      "[60 | 269.08] loss=3.06 avg=3.16\n",
      "[61 | 273.48] loss=2.93 avg=3.15\n",
      "[62 | 277.85] loss=2.98 avg=3.15\n",
      "[63 | 282.25] loss=3.05 avg=3.14\n",
      "[64 | 286.66] loss=3.06 avg=3.14\n",
      "[65 | 291.05] loss=3.11 avg=3.14\n",
      "[66 | 295.45] loss=2.92 avg=3.14\n",
      "[67 | 299.84] loss=3.07 avg=3.14\n",
      "[68 | 304.24] loss=2.97 avg=3.13\n",
      "[69 | 308.64] loss=3.00 avg=3.13\n",
      "[70 | 313.04] loss=2.89 avg=3.13\n",
      "[71 | 317.43] loss=2.94 avg=3.12\n",
      "[72 | 321.81] loss=3.00 avg=3.12\n",
      "[73 | 326.20] loss=2.87 avg=3.11\n",
      "[75 | 334.97] loss=2.97 avg=3.11\n",
      "[76 | 339.36] loss=3.03 avg=3.11\n",
      "[77 | 343.74] loss=2.93 avg=3.10\n",
      "[78 | 348.13] loss=3.02 avg=3.10\n",
      "[79 | 352.51] loss=2.93 avg=3.10\n",
      "[80 | 356.90] loss=3.00 avg=3.10\n",
      "[81 | 361.31] loss=2.93 avg=3.09\n",
      "[82 | 365.71] loss=3.10 avg=3.09\n",
      "[83 | 370.09] loss=2.89 avg=3.09\n",
      "[84 | 374.48] loss=3.01 avg=3.09\n",
      "[85 | 378.86] loss=2.89 avg=3.09\n",
      "[86 | 383.25] loss=2.90 avg=3.08\n",
      "[87 | 387.63] loss=3.00 avg=3.08\n",
      "[88 | 392.01] loss=3.07 avg=3.08\n",
      "[89 | 396.40] loss=2.92 avg=3.08\n",
      "[90 | 400.79] loss=2.95 avg=3.08\n",
      "[91 | 405.18] loss=3.03 avg=3.08\n",
      "[92 | 409.58] loss=2.78 avg=3.07\n",
      "[93 | 413.97] loss=2.98 avg=3.07\n",
      "[94 | 418.37] loss=2.95 avg=3.07\n",
      "[95 | 422.77] loss=2.92 avg=3.06\n",
      "[96 | 427.16] loss=2.85 avg=3.06\n",
      "[97 | 431.55] loss=2.97 avg=3.06\n",
      "[98 | 435.95] loss=2.97 avg=3.06\n",
      "[99 | 440.32] loss=3.04 avg=3.06\n",
      "======== SAMPLE 1 ========\n",
      "R. The Company, I think \n",
      "it seems, is a great people, and some men might well be in the \n",
      "Company. \n",
      "\n",
      "'The Enemy is growing more and more fierce, while he has \n",
      "his chief desire, and if the light must shine and go forth, \n",
      "they'll need to be beaten in their own land. We will \n",
      "beat them until they are broken. It'll be a league of fire and \n",
      "glow at once. There'll be many a day. I think in the meantime you'll \n",
      "be ready to meet the Enemy, if we can, maybe sooner. You should \n",
      "give me the time \n",
      "\n",
      "when you will. We must wait. If he can't go quick, then he is \n",
      "going to go swiftly.' \n",
      "\n",
      "'You'll see what passes in your eyes at once? They shall be \n",
      "quite a burden. We shall have a long and miserable trouble over them.' \n",
      "\n",
      "'If we manage it, I dare say it will be worse on them. We're the \n",
      "victims. We'd do him our business. We might go down in a blaze, and \n",
      "be better for it.'\" \n",
      "\n",
      "'But you'll do nothing now,' said Frodo. ’We'll keep \n",
      "out for a month, or a whole year. Not only will you have to \n",
      "be prepared, but you'll get no more sleep, so you'll have to try to help \n",
      "you get out. It would be impossible for you to help out, nor to do anything \n",
      "else.' \n",
      "\n",
      "'None is allowed to stay in the house, and not even Frodo. Do you \n",
      "have more food?' \n",
      "\n",
      "'All the better,' said Frodo. 'They'll need food.' \n",
      "\n",
      "Frodo smiled. 'That's the word of it, you'll see.' \n",
      "\n",
      "'And do you have anything to do with them?' he asked, and \n",
      "he was surprised at the lack of answer. 'That's all that's been \n",
      "called. So far it's been only a small part of the business here at \n",
      "the Gate. But I can see that for a long time. No one wants to go near \n",
      "them, or anywhere near them. There's a lot more than one way to go \n",
      "between them and the Ents on the Road. And I don't think Frodo \n",
      "has anywhere to go in anyway.' \n",
      "\n",
      "At once Sam and Gimli were taken up by a sudden surge. Gluin came now \n",
      "with a quick \n",
      "\n",
      "movement \n",
      "\n",
      "and \n",
      "\n",
      "sport-turn. Frodo caught a glimpse of a lighted window on Green Road. \n",
      "\n",
      "'Gagliar! Frodo! Gimliar! Sam!' cried an old voice. \n",
      "\n",
      "Sam was crouched on a high platform, but in that moment, as it \n",
      "appeared, he felt his face on the cold stone before him. And then \n",
      "as suddenly as it was rising, at the same moment he saw a figure: the \n",
      "Man in the white mask behind the Mirror. It was a tall man, almost two \n",
      "ton by two, and the height of his figure was now more than twenty feet \n",
      "tall. The man's dark hair was long and deep, and his face \n",
      "was black as a black hooded veil. \n",
      "\n",
      "Gagliar, he said. 'Don't look at us!' he said. 'We'll be \n",
      "away for a day!' \n",
      "\n",
      "His voice was very cold and quiet. The Man in the White \n",
      "seemed to have come up behind, and then a sudden light came out of \n",
      "the Mirror, and into the vision of all the people there on the Road. \n",
      "\n",
      "The light faded soon after, and when it faded, and the night \n",
      "was over, they saw no sign of the Man standing under the snow, and \n",
      "all now dark upon the Road. \n",
      "\n",
      "'Yes! yes!' said Sam. 'It was the most beautiful man of the \n",
      "East and a man of our day. I wouldn't come to Glamorgan, but I think it \n",
      "looked a lot like Gandalf in his own time.' \n",
      "\n",
      "'Glorious!' said Gluin. 'I wish I hadn't met him, but I \n",
      "could see it in the light of days, and had better not say so. He was \n",
      "like a wizard, and more like a wizard than any other!' He put \n",
      "his hand in Merry's lap. 'Well, yes, that's right,' he breathed. 'Glorious. \n",
      "I've never heard that word before. But not so in Glamorgan! Not so.' \n",
      "\n",
      "'Yes, that is\n",
      "\n",
      "[101 | 467.26] loss=2.92 avg=3.05\n",
      "[102 | 471.64] loss=3.06 avg=3.05\n",
      "[103 | 476.01] loss=2.88 avg=3.05\n",
      "[104 | 480.39] loss=2.98 avg=3.05\n",
      "[105 | 484.77] loss=2.86 avg=3.05\n",
      "[106 | 489.17] loss=2.97 avg=3.05\n",
      "[107 | 493.55] loss=2.88 avg=3.04\n",
      "[108 | 497.95] loss=2.89 avg=3.04\n",
      "[109 | 502.34] loss=2.92 avg=3.04\n",
      "[110 | 506.74] loss=3.03 avg=3.04\n",
      "[111 | 511.13] loss=2.94 avg=3.04\n",
      "[112 | 515.52] loss=2.82 avg=3.04\n",
      "[113 | 519.91] loss=2.95 avg=3.03\n",
      "[114 | 524.29] loss=2.92 avg=3.03\n",
      "[115 | 528.68] loss=3.03 avg=3.03\n",
      "[116 | 533.09] loss=3.17 avg=3.03\n",
      "[117 | 537.51] loss=2.82 avg=3.03\n",
      "[118 | 541.89] loss=2.95 avg=3.03\n",
      "[119 | 546.31] loss=3.08 avg=3.03\n",
      "[120 | 550.71] loss=2.94 avg=3.03\n",
      "[121 | 555.11] loss=2.89 avg=3.03\n",
      "[122 | 559.50] loss=2.95 avg=3.03\n",
      "[123 | 563.90] loss=2.97 avg=3.03\n",
      "[124 | 568.31] loss=2.79 avg=3.02\n",
      "[125 | 572.70] loss=2.85 avg=3.02\n",
      "[126 | 577.14] loss=2.80 avg=3.02\n",
      "[127 | 581.58] loss=2.91 avg=3.01\n",
      "[128 | 586.01] loss=2.69 avg=3.01\n",
      "[129 | 590.43] loss=3.15 avg=3.01\n",
      "[130 | 594.83] loss=2.90 avg=3.01\n",
      "[131 | 599.24] loss=2.95 avg=3.01\n",
      "[132 | 603.62] loss=2.79 avg=3.01\n",
      "[133 | 608.00] loss=2.93 avg=3.01\n",
      "[134 | 612.39] loss=2.85 avg=3.00\n",
      "[135 | 616.77] loss=2.83 avg=3.00\n",
      "[136 | 621.15] loss=2.95 avg=3.00\n",
      "[137 | 625.50] loss=2.93 avg=3.00\n",
      "[138 | 629.86] loss=2.92 avg=3.00\n",
      "[139 | 634.22] loss=2.80 avg=3.00\n",
      "[140 | 638.59] loss=2.80 avg=2.99\n",
      "[142 | 647.33] loss=2.72 avg=2.99\n",
      "[143 | 651.71] loss=2.87 avg=2.99\n",
      "[144 | 656.18] loss=2.91 avg=2.99\n",
      "[145 | 660.55] loss=2.78 avg=2.98\n",
      "[147 | 669.28] loss=3.08 avg=2.98\n",
      "[148 | 673.66] loss=2.98 avg=2.98\n",
      "[149 | 678.04] loss=2.86 avg=2.98\n",
      "[150 | 682.41] loss=2.99 avg=2.98\n",
      "[151 | 686.78] loss=3.06 avg=2.98\n",
      "[152 | 691.15] loss=2.91 avg=2.98\n",
      "[153 | 695.52] loss=2.96 avg=2.98\n",
      "[154 | 699.89] loss=2.77 avg=2.98\n",
      "[155 | 704.27] loss=2.66 avg=2.97\n",
      "[156 | 708.65] loss=2.88 avg=2.97\n",
      "[157 | 713.03] loss=2.81 avg=2.97\n",
      "[158 | 717.37] loss=2.83 avg=2.97\n",
      "[159 | 721.73] loss=2.86 avg=2.97\n",
      "[161 | 730.46] loss=2.82 avg=2.96\n",
      "[162 | 734.83] loss=2.92 avg=2.96\n",
      "interrupted\n",
      "Saving checkpoint/run1/model-162\n",
      "Tomorrow in this century we come to the rebranding of the Western Sea: the North Sea, named for Sir Galadriel and his heirs, King and King of the West; and it is now called the West Sea, and it is now called the South Sea, and it is now called the Sea of Gondor. And in that land there may still be kings, and great kings, and great kings, and great kings, and great kings, and great kings, and great kings, and great kings, and great kings, and great kings, and great kings, and great kings, and great kings, and great kings, and great kings, and great kings, and great kings, and great kings, and great kings, and great kings, and great kings, and great kings, and great kings, and great kings, and great kings, and great kings, and great kings, and great kings, and great kings, and great kings, and great kings, and great kings, and great kings, and great kings, and great kings, and great kings, and great kings, and great kings, and great kings, and great kings, and great kings, and great kings, and great kings, and great kings, and great kings, and great kings, and great kings, and great kings, and great kings, and great kings, and great kings, and great kings, and great kings, and great kings, and great kings, and great kings, and great kings, and great kings, and great kings, and great kings, and great kings, and great kings, and great kings, and great kings, and great kings, and great kings, and great kings, and great kings, and great kings, and great kings, and great kings, and great kings, and great kings, and great kings, and great kings, and great kings, and great kings, and great kings, and great kings, and great kings, and great kings, and great kings, and great kings, and great kings, and great kings, and great kings, and great kings, and great kings, and great kings, and great kings, and great kings, and great kings, and great kings, and great kings, and great kings, and great kings, and great kings, and great kings, and great kings, and great kings, and great kings, and great kings, and great kings, and great kings, and great kings, and great kings, and great kings, and great kings, and great kings, and great kings, and great kings, and great kings, and great kings, and great kings, and great kings, and great kings, and great kings, and great kings, and great kings, and great kings, and great kings, and great kings, and great kings, and great kings, and great kings, and great kings, and great kings, and great kings, and great kings, and great kings, and great kings, and great kings, and great kings, and great kings, and great kings, and great kings, and great kings, and great kings, and great kings, and great kings, and great, and great kings, and great kings, and great, and great, and great, and great, and great, and great, and great, and great, and great, and great, and great, and great, and great, and great, and great, and great, and great, and great, and great, and great, and great, and great, and great, and great, and great, and great, and great, and great, and great, and great, and great, and great, and great, and great, and great, and great, and great, and great, and great, and great, and great, and great, and great, and great, and great, and great, and great, and great, and great, and great, and great, and great, and great, and great, and great, and great, and great, and great, and great, and great, and great, and great, and great, and great, and great, and great, and great, and great, and great, and great, and great, and great, and great, and great, and great, and great, and great, and great, and great, and great, and great, and great, and great, and great, and great, and great, and great, and great, and great, and great, and great, and great, and great, and great, and great, and great, and great, and great, and great, and great, and great, and great, and great, and great, and great, and great, and great, and great, and great, and great, and great, and great, and great, and great, and great, and great, and great, and great, and great, and great, and great, and great, and great, and great, and great, and great, and\n"
     ]
    }
   ],
   "source": [
    "# This line is necessary to be able to run a new tf session if one has already been run\n",
    "tf.reset_default_graph()\n",
    "# Start a session\n",
    "sess = gpt2.start_tf_sess()\n",
    "# Fine tune `model_name` on `data`\n",
    "###################################\n",
    "# Swap out the `dataset` parameter with the path to your text dataset\n",
    "###################################\n",
    "gpt2.finetune(sess,\n",
    "              dataset='/content/text_files/lotr.txt',\n",
    "              model_name=model_name,\n",
    "              restore_from='latest',\n",
    "              steps=500)   # steps is max number of training steps\n",
    "\n",
    "gpt2.generate(sess, run_name='run1')"
   ]
  }
 ],
 "metadata": {
  "accelerator": "GPU",
  "colab": {
   "collapsed_sections": [
    "_K7F19SPQo6U",
    "9YLXvK51RnuL",
    "AHmjSVf_FNHv",
    "gPXJkNubFyY6",
    "iD45m3IwF9hh",
    "usQE-rSPZq_X",
    "IoA0tZZCa_1k",
    "8pa5vFJ5EUjv"
   ],
   "name": "DL_Lab10.ipynb",
   "provenance": []
  },
  "kernelspec": {
   "display_name": "Python 3",
   "language": "python",
   "name": "python3"
  },
  "language_info": {
   "codemirror_mode": {
    "name": "ipython",
    "version": 3
   },
   "file_extension": ".py",
   "mimetype": "text/x-python",
   "name": "python",
   "nbconvert_exporter": "python",
   "pygments_lexer": "ipython3",
   "version": "3.7.1"
  }
 },
 "nbformat": 4,
 "nbformat_minor": 0
}
